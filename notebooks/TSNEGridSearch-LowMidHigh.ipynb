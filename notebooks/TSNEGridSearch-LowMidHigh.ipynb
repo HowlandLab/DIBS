{
 "cells": [
  {
   "cell_type": "code",
   "execution_count": 1,
   "metadata": {},
   "outputs": [],
   "source": [
    "import dibs_notebook_header\n",
    "import dibs\n",
    "import itertools\n",
    "import multiprocessing\n",
    "import numpy as np\n",
    "import os\n",
    "import pandas as pd\n",
    "import time"
   ]
  },
  {
   "cell_type": "code",
   "execution_count": null,
   "metadata": {},
   "outputs": [],
   "source": []
  },
  {
   "cell_type": "code",
   "execution_count": 2,
   "metadata": {},
   "outputs": [],
   "source": [
    "num_procs = 8"
   ]
  },
  {
   "cell_type": "code",
   "execution_count": 3,
   "metadata": {},
   "outputs": [],
   "source": [
    "def avg(low,high):\n",
    "    return (low+high)/2"
   ]
  },
  {
   "cell_type": "code",
   "execution_count": 4,
   "metadata": {},
   "outputs": [
    {
     "name": "stdout",
     "output_type": "stream",
     "text": [
      "Number of combos: 6\n"
     ]
    }
   ],
   "source": [
    "plow, phigh  = 150, 450\n",
    "pmid = avg(plow,phigh)\n",
    "lrlow, lrhigh  = 50, 300\n",
    "lrmid = avg(lrlow, lrhigh)\n",
    "eelow, eehigh = 150, 400\n",
    "eemid=avg(eelow,eehigh)\n",
    "kwargs_product = [{'tsne_perplexity': p,\n",
    "                   'tsne_early_exaggeration': ee,\n",
    "                   'tsne_learning_rate': lr,\n",
    "                   'tsne_n_components': 2, \n",
    "                   'gmm_n_components': 8,  \n",
    "                   'cross_validation_n_jobs': 1,\n",
    "                   'classifier_n_jobs':1, \n",
    "                   'tsne_n_jobs': 1,\n",
    "                  } for p,ee, lr in itertools.product(\n",
    "    [\n",
    "        plow,\n",
    "        pmid,\n",
    "        phigh,\n",
    "    ],\n",
    "    [\n",
    "        eelow,\n",
    "#         eemid,\n",
    "        eehigh,\n",
    "    ],\n",
    "    [\n",
    "#         lrlow,\n",
    "        lrmid,\n",
    "#         lrhigh,\n",
    "    ])]\n",
    "names = [f'Pipeline_{i}' for i in range(len(kwargs_product))]\n",
    "print('Number of combos:', len(kwargs_product))\n",
    "# kwargs_product[:2]"
   ]
  },
  {
   "cell_type": "code",
   "execution_count": 5,
   "metadata": {},
   "outputs": [
    {
     "data": {
      "text/plain": [
       "6"
      ]
     },
     "execution_count": 5,
     "metadata": {},
     "output_type": "execute_result"
    }
   ],
   "source": [
    "len(list(zip(names, kwargs_product)))"
   ]
  },
  {
   "cell_type": "code",
   "execution_count": 6,
   "metadata": {},
   "outputs": [
    {
     "data": {
      "text/plain": [
       "['C:\\\\Users\\\\killian\\\\projects\\\\DIBS\\\\epm_data_csv_train\\\\EPM-MCE-10DLC_resnet50_Maternal_EPMDec28shuffle1_180000.csv',\n",
       " 'C:\\\\Users\\\\killian\\\\projects\\\\DIBS\\\\epm_data_csv_train\\\\EPM-MCE-11DLC_resnet50_Maternal_EPMDec28shuffle1_180000.csv',\n",
       " 'C:\\\\Users\\\\killian\\\\projects\\\\DIBS\\\\epm_data_csv_train\\\\EPM-MCE-12DLC_resnet50_Maternal_EPMDec28shuffle1_180000.csv']"
      ]
     },
     "execution_count": 6,
     "metadata": {},
     "output_type": "execute_result"
    }
   ],
   "source": [
    "all_files = [os.path.join(dibs.config.DEFAULT_TRAIN_DATA_DIR, file) for file in os.listdir(dibs.config.DEFAULT_TRAIN_DATA_DIR)]\n",
    "train_data = half_files = all_files[:int(len(all_files) * 0.35)]\n",
    "train_data[:3]"
   ]
  },
  {
   "cell_type": "code",
   "execution_count": null,
   "metadata": {},
   "outputs": [],
   "source": []
  },
  {
   "cell_type": "code",
   "execution_count": null,
   "metadata": {},
   "outputs": [],
   "source": []
  },
  {
   "cell_type": "code",
   "execution_count": 7,
   "metadata": {
    "scrolled": false
   },
   "outputs": [
    {
     "name": "stderr",
     "output_type": "stream",
     "text": [
      "2021-01-20 13:31:36,488 - C:\\Users\\killian\\projects\\DIBS\\dibs\\base_pipeline.py       - DEBUG    - Added file to train data: C:\\Users\\killian\\projects\\DIBS\\epm_data_csv_train\\EPM-MCE-10DLC_resnet50_Maternal_EPMDec28shuffle1_180000.csv\n",
      "2021-01-20 13:31:36,604 - C:\\Users\\killian\\projects\\DIBS\\dibs\\base_pipeline.py       - DEBUG    - Added file to train data: C:\\Users\\killian\\projects\\DIBS\\epm_data_csv_train\\EPM-MCE-11DLC_resnet50_Maternal_EPMDec28shuffle1_180000.csv\n",
      "2021-01-20 13:31:36,721 - C:\\Users\\killian\\projects\\DIBS\\dibs\\base_pipeline.py       - DEBUG    - Added file to train data: C:\\Users\\killian\\projects\\DIBS\\epm_data_csv_train\\EPM-MCE-12DLC_resnet50_Maternal_EPMDec28shuffle1_180000.csv\n",
      "2021-01-20 13:31:36,841 - C:\\Users\\killian\\projects\\DIBS\\dibs\\base_pipeline.py       - DEBUG    - Added file to train data: C:\\Users\\killian\\projects\\DIBS\\epm_data_csv_train\\EPM-MCE-13DLC_resnet50_Maternal_EPMDec28shuffle1_180000.csv\n",
      "2021-01-20 13:31:36,966 - C:\\Users\\killian\\projects\\DIBS\\dibs\\base_pipeline.py       - DEBUG    - Added file to train data: C:\\Users\\killian\\projects\\DIBS\\epm_data_csv_train\\EPM-MCE-14DLC_resnet50_Maternal_EPMDec28shuffle1_180000.csv\n",
      "2021-01-20 13:31:37,092 - C:\\Users\\killian\\projects\\DIBS\\dibs\\base_pipeline.py       - DEBUG    - Added file to train data: C:\\Users\\killian\\projects\\DIBS\\epm_data_csv_train\\EPM-MCE-15DLC_resnet50_Maternal_EPMDec28shuffle1_180000.csv\n",
      "2021-01-20 13:31:37,201 - C:\\Users\\killian\\projects\\DIBS\\dibs\\base_pipeline.py       - DEBUG    - Added file to train data: C:\\Users\\killian\\projects\\DIBS\\epm_data_csv_train\\EPM-MCE-10DLC_resnet50_Maternal_EPMDec28shuffle1_180000.csv\n",
      "2021-01-20 13:31:37,317 - C:\\Users\\killian\\projects\\DIBS\\dibs\\base_pipeline.py       - DEBUG    - Added file to train data: C:\\Users\\killian\\projects\\DIBS\\epm_data_csv_train\\EPM-MCE-11DLC_resnet50_Maternal_EPMDec28shuffle1_180000.csv\n",
      "2021-01-20 13:31:37,434 - C:\\Users\\killian\\projects\\DIBS\\dibs\\base_pipeline.py       - DEBUG    - Added file to train data: C:\\Users\\killian\\projects\\DIBS\\epm_data_csv_train\\EPM-MCE-12DLC_resnet50_Maternal_EPMDec28shuffle1_180000.csv\n",
      "2021-01-20 13:31:37,551 - C:\\Users\\killian\\projects\\DIBS\\dibs\\base_pipeline.py       - DEBUG    - Added file to train data: C:\\Users\\killian\\projects\\DIBS\\epm_data_csv_train\\EPM-MCE-13DLC_resnet50_Maternal_EPMDec28shuffle1_180000.csv\n",
      "2021-01-20 13:31:37,676 - C:\\Users\\killian\\projects\\DIBS\\dibs\\base_pipeline.py       - DEBUG    - Added file to train data: C:\\Users\\killian\\projects\\DIBS\\epm_data_csv_train\\EPM-MCE-14DLC_resnet50_Maternal_EPMDec28shuffle1_180000.csv\n",
      "2021-01-20 13:31:37,806 - C:\\Users\\killian\\projects\\DIBS\\dibs\\base_pipeline.py       - DEBUG    - Added file to train data: C:\\Users\\killian\\projects\\DIBS\\epm_data_csv_train\\EPM-MCE-15DLC_resnet50_Maternal_EPMDec28shuffle1_180000.csv\n",
      "2021-01-20 13:31:37,916 - C:\\Users\\killian\\projects\\DIBS\\dibs\\base_pipeline.py       - DEBUG    - Added file to train data: C:\\Users\\killian\\projects\\DIBS\\epm_data_csv_train\\EPM-MCE-10DLC_resnet50_Maternal_EPMDec28shuffle1_180000.csv\n",
      "2021-01-20 13:31:38,032 - C:\\Users\\killian\\projects\\DIBS\\dibs\\base_pipeline.py       - DEBUG    - Added file to train data: C:\\Users\\killian\\projects\\DIBS\\epm_data_csv_train\\EPM-MCE-11DLC_resnet50_Maternal_EPMDec28shuffle1_180000.csv\n",
      "2021-01-20 13:31:38,150 - C:\\Users\\killian\\projects\\DIBS\\dibs\\base_pipeline.py       - DEBUG    - Added file to train data: C:\\Users\\killian\\projects\\DIBS\\epm_data_csv_train\\EPM-MCE-12DLC_resnet50_Maternal_EPMDec28shuffle1_180000.csv\n",
      "2021-01-20 13:31:38,271 - C:\\Users\\killian\\projects\\DIBS\\dibs\\base_pipeline.py       - DEBUG    - Added file to train data: C:\\Users\\killian\\projects\\DIBS\\epm_data_csv_train\\EPM-MCE-13DLC_resnet50_Maternal_EPMDec28shuffle1_180000.csv\n",
      "2021-01-20 13:31:38,400 - C:\\Users\\killian\\projects\\DIBS\\dibs\\base_pipeline.py       - DEBUG    - Added file to train data: C:\\Users\\killian\\projects\\DIBS\\epm_data_csv_train\\EPM-MCE-14DLC_resnet50_Maternal_EPMDec28shuffle1_180000.csv\n",
      "2021-01-20 13:31:38,527 - C:\\Users\\killian\\projects\\DIBS\\dibs\\base_pipeline.py       - DEBUG    - Added file to train data: C:\\Users\\killian\\projects\\DIBS\\epm_data_csv_train\\EPM-MCE-15DLC_resnet50_Maternal_EPMDec28shuffle1_180000.csv\n",
      "2021-01-20 13:31:38,638 - C:\\Users\\killian\\projects\\DIBS\\dibs\\base_pipeline.py       - DEBUG    - Added file to train data: C:\\Users\\killian\\projects\\DIBS\\epm_data_csv_train\\EPM-MCE-10DLC_resnet50_Maternal_EPMDec28shuffle1_180000.csv\n",
      "2021-01-20 13:31:38,759 - C:\\Users\\killian\\projects\\DIBS\\dibs\\base_pipeline.py       - DEBUG    - Added file to train data: C:\\Users\\killian\\projects\\DIBS\\epm_data_csv_train\\EPM-MCE-11DLC_resnet50_Maternal_EPMDec28shuffle1_180000.csv\n",
      "2021-01-20 13:31:38,879 - C:\\Users\\killian\\projects\\DIBS\\dibs\\base_pipeline.py       - DEBUG    - Added file to train data: C:\\Users\\killian\\projects\\DIBS\\epm_data_csv_train\\EPM-MCE-12DLC_resnet50_Maternal_EPMDec28shuffle1_180000.csv\n",
      "2021-01-20 13:31:38,997 - C:\\Users\\killian\\projects\\DIBS\\dibs\\base_pipeline.py       - DEBUG    - Added file to train data: C:\\Users\\killian\\projects\\DIBS\\epm_data_csv_train\\EPM-MCE-13DLC_resnet50_Maternal_EPMDec28shuffle1_180000.csv\n",
      "2021-01-20 13:31:39,123 - C:\\Users\\killian\\projects\\DIBS\\dibs\\base_pipeline.py       - DEBUG    - Added file to train data: C:\\Users\\killian\\projects\\DIBS\\epm_data_csv_train\\EPM-MCE-14DLC_resnet50_Maternal_EPMDec28shuffle1_180000.csv\n",
      "2021-01-20 13:31:39,250 - C:\\Users\\killian\\projects\\DIBS\\dibs\\base_pipeline.py       - DEBUG    - Added file to train data: C:\\Users\\killian\\projects\\DIBS\\epm_data_csv_train\\EPM-MCE-15DLC_resnet50_Maternal_EPMDec28shuffle1_180000.csv\n",
      "2021-01-20 13:31:39,361 - C:\\Users\\killian\\projects\\DIBS\\dibs\\base_pipeline.py       - DEBUG    - Added file to train data: C:\\Users\\killian\\projects\\DIBS\\epm_data_csv_train\\EPM-MCE-10DLC_resnet50_Maternal_EPMDec28shuffle1_180000.csv\n",
      "2021-01-20 13:31:39,481 - C:\\Users\\killian\\projects\\DIBS\\dibs\\base_pipeline.py       - DEBUG    - Added file to train data: C:\\Users\\killian\\projects\\DIBS\\epm_data_csv_train\\EPM-MCE-11DLC_resnet50_Maternal_EPMDec28shuffle1_180000.csv\n",
      "2021-01-20 13:31:39,601 - C:\\Users\\killian\\projects\\DIBS\\dibs\\base_pipeline.py       - DEBUG    - Added file to train data: C:\\Users\\killian\\projects\\DIBS\\epm_data_csv_train\\EPM-MCE-12DLC_resnet50_Maternal_EPMDec28shuffle1_180000.csv\n",
      "2021-01-20 13:31:39,724 - C:\\Users\\killian\\projects\\DIBS\\dibs\\base_pipeline.py       - DEBUG    - Added file to train data: C:\\Users\\killian\\projects\\DIBS\\epm_data_csv_train\\EPM-MCE-13DLC_resnet50_Maternal_EPMDec28shuffle1_180000.csv\n",
      "2021-01-20 13:31:39,856 - C:\\Users\\killian\\projects\\DIBS\\dibs\\base_pipeline.py       - DEBUG    - Added file to train data: C:\\Users\\killian\\projects\\DIBS\\epm_data_csv_train\\EPM-MCE-14DLC_resnet50_Maternal_EPMDec28shuffle1_180000.csv\n",
      "2021-01-20 13:31:39,987 - C:\\Users\\killian\\projects\\DIBS\\dibs\\base_pipeline.py       - DEBUG    - Added file to train data: C:\\Users\\killian\\projects\\DIBS\\epm_data_csv_train\\EPM-MCE-15DLC_resnet50_Maternal_EPMDec28shuffle1_180000.csv\n",
      "2021-01-20 13:31:40,103 - C:\\Users\\killian\\projects\\DIBS\\dibs\\base_pipeline.py       - DEBUG    - Added file to train data: C:\\Users\\killian\\projects\\DIBS\\epm_data_csv_train\\EPM-MCE-10DLC_resnet50_Maternal_EPMDec28shuffle1_180000.csv\n",
      "2021-01-20 13:31:40,222 - C:\\Users\\killian\\projects\\DIBS\\dibs\\base_pipeline.py       - DEBUG    - Added file to train data: C:\\Users\\killian\\projects\\DIBS\\epm_data_csv_train\\EPM-MCE-11DLC_resnet50_Maternal_EPMDec28shuffle1_180000.csv\n",
      "2021-01-20 13:31:40,341 - C:\\Users\\killian\\projects\\DIBS\\dibs\\base_pipeline.py       - DEBUG    - Added file to train data: C:\\Users\\killian\\projects\\DIBS\\epm_data_csv_train\\EPM-MCE-12DLC_resnet50_Maternal_EPMDec28shuffle1_180000.csv\n",
      "2021-01-20 13:31:40,464 - C:\\Users\\killian\\projects\\DIBS\\dibs\\base_pipeline.py       - DEBUG    - Added file to train data: C:\\Users\\killian\\projects\\DIBS\\epm_data_csv_train\\EPM-MCE-13DLC_resnet50_Maternal_EPMDec28shuffle1_180000.csv\n",
      "2021-01-20 13:31:40,592 - C:\\Users\\killian\\projects\\DIBS\\dibs\\base_pipeline.py       - DEBUG    - Added file to train data: C:\\Users\\killian\\projects\\DIBS\\epm_data_csv_train\\EPM-MCE-14DLC_resnet50_Maternal_EPMDec28shuffle1_180000.csv\n",
      "2021-01-20 13:31:40,721 - C:\\Users\\killian\\projects\\DIBS\\dibs\\base_pipeline.py       - DEBUG    - Added file to train data: C:\\Users\\killian\\projects\\DIBS\\epm_data_csv_train\\EPM-MCE-15DLC_resnet50_Maternal_EPMDec28shuffle1_180000.csv\n"
     ]
    }
   ],
   "source": [
    "pipe_results = [dibs.pipeline.PipelineMimic(name, **kwargs).add_train_data_source(*train_data) for name, kwargs in zip(names, kwargs_product)]\n",
    "# print(\"Number of possible results\", len(pipe_results))"
   ]
  },
  {
   "cell_type": "code",
   "execution_count": null,
   "metadata": {},
   "outputs": [],
   "source": []
  },
  {
   "cell_type": "code",
   "execution_count": 8,
   "metadata": {},
   "outputs": [
    {
     "data": {
      "text/plain": [
       "6"
      ]
     },
     "execution_count": 8,
     "metadata": {},
     "output_type": "execute_result"
    }
   ],
   "source": [
    "len(pipe_results)"
   ]
  },
  {
   "cell_type": "code",
   "execution_count": null,
   "metadata": {},
   "outputs": [],
   "source": [
    "start = time.perf_counter()\n",
    "with multiprocessing.Pool(num_procs) as pool:\n",
    "    pipe_results = [pool.apply_async(pipe.build) for pipe in pipe_results[:num_procs]]\n",
    "    pipe_results = [res.get() for res in pipe_results]\n",
    "end = time.perf_counter()\n",
    "print(f'Total compute time: {(end-start)/60} minutes')"
   ]
  },
  {
   "cell_type": "code",
   "execution_count": null,
   "metadata": {},
   "outputs": [],
   "source": [
    "print(f'Total compute time: {(end-start)/60} minutes')"
   ]
  },
  {
   "cell_type": "code",
   "execution_count": null,
   "metadata": {},
   "outputs": [],
   "source": [
    "print('Mins to build:', (end-start)/60)"
   ]
  },
  {
   "cell_type": "code",
   "execution_count": null,
   "metadata": {
    "scrolled": false
   },
   "outputs": [],
   "source": [
    "for i, pipe in enumerate(pipe_results):\n",
    "    p,lr,ee = pipe.tsne_perplexity, pipe.tsne_learning_rate, pipe.tsne_early_exaggeration\n",
    "    print('perp', p , 'ee', ee, 'lr', lr)\n",
    "    pipe.plot_clusters_by_assignments(show_now=True, save_to_file=True, figsize=(20,15),s=1.5)\n",
    "    print('-----------------------------------')"
   ]
  },
  {
   "cell_type": "code",
   "execution_count": null,
   "metadata": {},
   "outputs": [],
   "source": []
  },
  {
   "cell_type": "code",
   "execution_count": null,
   "metadata": {},
   "outputs": [],
   "source": []
  },
  {
   "cell_type": "code",
   "execution_count": null,
   "metadata": {},
   "outputs": [],
   "source": []
  },
  {
   "cell_type": "code",
   "execution_count": null,
   "metadata": {},
   "outputs": [],
   "source": []
  },
  {
   "cell_type": "code",
   "execution_count": null,
   "metadata": {},
   "outputs": [],
   "source": []
  },
  {
   "cell_type": "code",
   "execution_count": null,
   "metadata": {},
   "outputs": [],
   "source": [
    "print('All done!')"
   ]
  },
  {
   "cell_type": "code",
   "execution_count": null,
   "metadata": {},
   "outputs": [],
   "source": [
    "dibs.pipeline.logger.info('All done!')"
   ]
  }
 ],
 "metadata": {
  "kernelspec": {
   "display_name": "dibs_windows",
   "language": "python",
   "name": "dibs_windows"
  },
  "language_info": {
   "codemirror_mode": {
    "name": "ipython",
    "version": 3
   },
   "file_extension": ".py",
   "mimetype": "text/x-python",
   "name": "python",
   "nbconvert_exporter": "python",
   "pygments_lexer": "ipython3",
   "version": "3.9.1"
  }
 },
 "nbformat": 4,
 "nbformat_minor": 4
}
