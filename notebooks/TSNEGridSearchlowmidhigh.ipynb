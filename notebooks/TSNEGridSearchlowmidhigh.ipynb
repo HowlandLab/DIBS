{
 "cells": [
  {
   "cell_type": "code",
   "execution_count": null,
   "metadata": {},
   "outputs": [],
   "source": [
    "import dibs_notebook_header\n",
    "import dibs\n",
    "import itertools\n",
    "import multiprocessing\n",
    "import numpy as np\n",
    "import os\n",
    "import pandas as pd\n",
    "import time"
   ]
  },
  {
   "cell_type": "code",
   "execution_count": null,
   "metadata": {},
   "outputs": [],
   "source": []
  },
  {
   "cell_type": "code",
   "execution_count": null,
   "metadata": {},
   "outputs": [],
   "source": [
    "num_procs = 8"
   ]
  },
  {
   "cell_type": "code",
   "execution_count": null,
   "metadata": {},
   "outputs": [],
   "source": [
    "def avg(low,high):\n",
    "    return (low+high)/2"
   ]
  },
  {
   "cell_type": "code",
   "execution_count": null,
   "metadata": {},
   "outputs": [],
   "source": [
    "plow, phigh  = 30, 300\n",
    "pmid = avg(plow,phigh)\n",
    "lrlow, lrhigh  = 50, 300\n",
    "lrmid = avg(lrlow, lrhigh)\n",
    "eelow, eehigh = 150, 500\n",
    "eemid=avg(eelow,eehigh)\n",
    "kwargs_product = [{'tsne_perplexity': p,\n",
    "                   'tsne_early_exaggeration': ee,\n",
    "                   'tsne_learning_rate': lr,\n",
    "                   'tsne_n_components': 2, \n",
    "                   'tsne_n_jobs': 1,\n",
    "                   'gmm_n_components': 8,  \n",
    "                   'cross_validation_n_jobs': 1,\n",
    "                  } for p,lr, ee in itertools.product([plow,pmid,phigh],[lrlow,lrhigh],[eelow,eemid,eehigh])]\n",
    "names = [f'Pipeline_{i}' for i in range(len(kwargs_product))]\n",
    "print('Number of combos:', len(kwargs_product))\n",
    "# kwargs_product[:2]"
   ]
  },
  {
   "cell_type": "code",
   "execution_count": null,
   "metadata": {},
   "outputs": [],
   "source": [
    "len(list(zip(names, kwargs_product)))"
   ]
  },
  {
   "cell_type": "code",
   "execution_count": null,
   "metadata": {},
   "outputs": [],
   "source": [
    "all_files = [os.path.join(dibs.config.DEFAULT_TRAIN_DATA_DIR, file) for file in os.listdir(dibs.config.DEFAULT_TRAIN_DATA_DIR)]\n",
    "train_data = half_files = all_files[:int(len(all_files) * 0.35)]\n",
    "train_data[:3]"
   ]
  },
  {
   "cell_type": "code",
   "execution_count": null,
   "metadata": {},
   "outputs": [],
   "source": []
  },
  {
   "cell_type": "code",
   "execution_count": null,
   "metadata": {},
   "outputs": [],
   "source": []
  },
  {
   "cell_type": "code",
   "execution_count": null,
   "metadata": {
    "scrolled": false
   },
   "outputs": [],
   "source": [
    "pipe_results = [dibs.pipeline.PipelineMimic(name, **kwargs).add_train_data_source(*train_data) for name, kwargs in zip(names, kwargs_product)]\n",
    "# print(\"Number of possible results\", len(pipe_results))"
   ]
  },
  {
   "cell_type": "code",
   "execution_count": null,
   "metadata": {},
   "outputs": [],
   "source": []
  },
  {
   "cell_type": "code",
   "execution_count": null,
   "metadata": {},
   "outputs": [],
   "source": [
    "len(pipe_results)"
   ]
  },
  {
   "cell_type": "code",
   "execution_count": null,
   "metadata": {},
   "outputs": [],
   "source": [
    "start = time.perf_counter()\n",
    "with multiprocessing.Pool(num_procs) as pool:\n",
    "    pipe_results = [pool.apply_async(pipe.build) for pipe in pipe_results]\n",
    "    pipe_results = [res.get() for res in pipe_results]\n",
    "end = time.perf_counter()\n",
    "print('Total compute time:', end-start, 'seconds.')"
   ]
  },
  {
   "cell_type": "code",
   "execution_count": null,
   "metadata": {},
   "outputs": [],
   "source": []
  },
  {
   "cell_type": "code",
   "execution_count": null,
   "metadata": {
    "scrolled": false
   },
   "outputs": [],
   "source": [
    "for i, pipe in enumerate(pipe_results):\n",
    "    p,lr,ee = pipe.tsne_perplexity, pipe.tsne_learning_rate, pipe.tsne_early_exaggeration\n",
    "    print('perp', p , 'ee', ee, 'lr', lr)\n",
    "    pipe.plot_clusters_by_assignments(show_now=True, save_to_file=True, figsize=(20,15),s=1.5)\n",
    "    print('-----------------------------------')"
   ]
  },
  {
   "cell_type": "code",
   "execution_count": null,
   "metadata": {},
   "outputs": [],
   "source": []
  },
  {
   "cell_type": "code",
   "execution_count": null,
   "metadata": {},
   "outputs": [],
   "source": []
  },
  {
   "cell_type": "code",
   "execution_count": null,
   "metadata": {},
   "outputs": [],
   "source": []
  },
  {
   "cell_type": "code",
   "execution_count": null,
   "metadata": {},
   "outputs": [],
   "source": []
  },
  {
   "cell_type": "code",
   "execution_count": null,
   "metadata": {},
   "outputs": [],
   "source": []
  },
  {
   "cell_type": "code",
   "execution_count": null,
   "metadata": {},
   "outputs": [],
   "source": [
    "print('All done!')"
   ]
  },
  {
   "cell_type": "code",
   "execution_count": null,
   "metadata": {},
   "outputs": [],
   "source": [
    "dibs.pipeline.logger.info('All done!')"
   ]
  }
 ],
 "metadata": {
  "kernelspec": {
   "display_name": "dibs_windows",
   "language": "python",
   "name": "dibs_windows"
  },
  "language_info": {
   "codemirror_mode": {
    "name": "ipython",
    "version": 3
   },
   "file_extension": ".py",
   "mimetype": "text/x-python",
   "name": "python",
   "nbconvert_exporter": "python",
   "pygments_lexer": "ipython3",
   "version": "3.9.1"
  }
 },
 "nbformat": 4,
 "nbformat_minor": 4
}
