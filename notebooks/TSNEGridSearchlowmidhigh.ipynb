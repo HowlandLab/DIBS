{
 "cells": [
  {
   "cell_type": "code",
   "execution_count": 1,
   "metadata": {},
   "outputs": [],
   "source": [
    "import dibs_notebook_header\n",
    "import dibs\n",
    "import itertools\n",
    "import multiprocessing\n",
    "import numpy as np\n",
    "import os\n",
    "import pandas as pd\n",
    "import time"
   ]
  },
  {
   "cell_type": "code",
   "execution_count": null,
   "metadata": {},
   "outputs": [],
   "source": []
  },
  {
   "cell_type": "code",
   "execution_count": 2,
   "metadata": {},
   "outputs": [],
   "source": [
    "num_procs = 8"
   ]
  },
  {
   "cell_type": "code",
   "execution_count": 3,
   "metadata": {},
   "outputs": [],
   "source": [
    "def avg(low,high):\n",
    "    return (low+high)/2"
   ]
  },
  {
   "cell_type": "code",
   "execution_count": 4,
   "metadata": {},
   "outputs": [
    {
     "name": "stdout",
     "output_type": "stream",
     "text": [
      "Number of combos: 18\n"
     ]
    }
   ],
   "source": [
    "plow, phigh  = 100, 300\n",
    "pmid = avg(plow,phigh)\n",
    "lrlow, lrhigh  = 50, 300\n",
    "lrmid = avg(lrlow, lrhigh)\n",
    "eelow, eehigh = 150, 350\n",
    "eemid=avg(eelow,eehigh)\n",
    "kwargs_product = [{'tsne_perplexity': p,\n",
    "                   'tsne_early_exaggeration': ee,\n",
    "                   'tsne_learning_rate': lr,\n",
    "                   'tsne_n_components': 2, \n",
    "                   'tsne_n_jobs': 1,\n",
    "                   'gmm_n_components': 8,  \n",
    "                   'cross_validation_n_jobs': 1,\n",
    "                  } for p,ee,lr in itertools.product([plow,pmid,phigh],[lrlow,lrhigh],[eelow,eemid,eehigh])]\n",
    "names = [f'Pipeline_{i}' for i in range(len(kwargs_product))]\n",
    "print('Number of combos:', len(kwargs_product))\n",
    "# kwargs_product[:2]"
   ]
  },
  {
   "cell_type": "code",
   "execution_count": 5,
   "metadata": {},
   "outputs": [
    {
     "data": {
      "text/plain": [
       "18"
      ]
     },
     "execution_count": 5,
     "metadata": {},
     "output_type": "execute_result"
    }
   ],
   "source": [
    "len(list(zip(names, kwargs_product)))"
   ]
  },
  {
   "cell_type": "code",
   "execution_count": 6,
   "metadata": {},
   "outputs": [
    {
     "data": {
      "text/plain": [
       "['C:\\\\Users\\\\killian\\\\projects\\\\DIBS\\\\epm_data_csv_train\\\\EPM-MCE-10DLC_resnet50_Maternal_EPMDec28shuffle1_180000.csv',\n",
       " 'C:\\\\Users\\\\killian\\\\projects\\\\DIBS\\\\epm_data_csv_train\\\\EPM-MCE-11DLC_resnet50_Maternal_EPMDec28shuffle1_180000.csv',\n",
       " 'C:\\\\Users\\\\killian\\\\projects\\\\DIBS\\\\epm_data_csv_train\\\\EPM-MCE-12DLC_resnet50_Maternal_EPMDec28shuffle1_180000.csv']"
      ]
     },
     "execution_count": 6,
     "metadata": {},
     "output_type": "execute_result"
    }
   ],
   "source": [
    "all_files = [os.path.join(dibs.config.DEFAULT_TRAIN_DATA_DIR, file) for file in os.listdir(dibs.config.DEFAULT_TRAIN_DATA_DIR)]\n",
    "train_data = half_files = all_files[:int(len(all_files) * 0.35)]\n",
    "train_data[:3]"
   ]
  },
  {
   "cell_type": "code",
   "execution_count": null,
   "metadata": {},
   "outputs": [],
   "source": []
  },
  {
   "cell_type": "code",
   "execution_count": null,
   "metadata": {},
   "outputs": [],
   "source": []
  },
  {
   "cell_type": "code",
   "execution_count": 7,
   "metadata": {
    "scrolled": false
   },
   "outputs": [
    {
     "name": "stderr",
     "output_type": "stream",
     "text": [
      "2021-01-20 12:02:39,046 - C:\\Users\\killian\\projects\\DIBS\\dibs\\base_pipeline.py       - DEBUG    - Added file to train data: C:\\Users\\killian\\projects\\DIBS\\epm_data_csv_train\\EPM-MCE-10DLC_resnet50_Maternal_EPMDec28shuffle1_180000.csv\n",
      "2021-01-20 12:02:39,162 - C:\\Users\\killian\\projects\\DIBS\\dibs\\base_pipeline.py       - DEBUG    - Added file to train data: C:\\Users\\killian\\projects\\DIBS\\epm_data_csv_train\\EPM-MCE-11DLC_resnet50_Maternal_EPMDec28shuffle1_180000.csv\n",
      "2021-01-20 12:02:39,280 - C:\\Users\\killian\\projects\\DIBS\\dibs\\base_pipeline.py       - DEBUG    - Added file to train data: C:\\Users\\killian\\projects\\DIBS\\epm_data_csv_train\\EPM-MCE-12DLC_resnet50_Maternal_EPMDec28shuffle1_180000.csv\n",
      "2021-01-20 12:02:39,398 - C:\\Users\\killian\\projects\\DIBS\\dibs\\base_pipeline.py       - DEBUG    - Added file to train data: C:\\Users\\killian\\projects\\DIBS\\epm_data_csv_train\\EPM-MCE-13DLC_resnet50_Maternal_EPMDec28shuffle1_180000.csv\n",
      "2021-01-20 12:02:39,524 - C:\\Users\\killian\\projects\\DIBS\\dibs\\base_pipeline.py       - DEBUG    - Added file to train data: C:\\Users\\killian\\projects\\DIBS\\epm_data_csv_train\\EPM-MCE-14DLC_resnet50_Maternal_EPMDec28shuffle1_180000.csv\n",
      "2021-01-20 12:02:39,652 - C:\\Users\\killian\\projects\\DIBS\\dibs\\base_pipeline.py       - DEBUG    - Added file to train data: C:\\Users\\killian\\projects\\DIBS\\epm_data_csv_train\\EPM-MCE-15DLC_resnet50_Maternal_EPMDec28shuffle1_180000.csv\n",
      "2021-01-20 12:02:39,762 - C:\\Users\\killian\\projects\\DIBS\\dibs\\base_pipeline.py       - DEBUG    - Added file to train data: C:\\Users\\killian\\projects\\DIBS\\epm_data_csv_train\\EPM-MCE-10DLC_resnet50_Maternal_EPMDec28shuffle1_180000.csv\n",
      "2021-01-20 12:02:39,878 - C:\\Users\\killian\\projects\\DIBS\\dibs\\base_pipeline.py       - DEBUG    - Added file to train data: C:\\Users\\killian\\projects\\DIBS\\epm_data_csv_train\\EPM-MCE-11DLC_resnet50_Maternal_EPMDec28shuffle1_180000.csv\n",
      "2021-01-20 12:02:39,998 - C:\\Users\\killian\\projects\\DIBS\\dibs\\base_pipeline.py       - DEBUG    - Added file to train data: C:\\Users\\killian\\projects\\DIBS\\epm_data_csv_train\\EPM-MCE-12DLC_resnet50_Maternal_EPMDec28shuffle1_180000.csv\n",
      "2021-01-20 12:02:40,120 - C:\\Users\\killian\\projects\\DIBS\\dibs\\base_pipeline.py       - DEBUG    - Added file to train data: C:\\Users\\killian\\projects\\DIBS\\epm_data_csv_train\\EPM-MCE-13DLC_resnet50_Maternal_EPMDec28shuffle1_180000.csv\n",
      "2021-01-20 12:02:40,251 - C:\\Users\\killian\\projects\\DIBS\\dibs\\base_pipeline.py       - DEBUG    - Added file to train data: C:\\Users\\killian\\projects\\DIBS\\epm_data_csv_train\\EPM-MCE-14DLC_resnet50_Maternal_EPMDec28shuffle1_180000.csv\n",
      "2021-01-20 12:02:40,379 - C:\\Users\\killian\\projects\\DIBS\\dibs\\base_pipeline.py       - DEBUG    - Added file to train data: C:\\Users\\killian\\projects\\DIBS\\epm_data_csv_train\\EPM-MCE-15DLC_resnet50_Maternal_EPMDec28shuffle1_180000.csv\n",
      "2021-01-20 12:02:40,490 - C:\\Users\\killian\\projects\\DIBS\\dibs\\base_pipeline.py       - DEBUG    - Added file to train data: C:\\Users\\killian\\projects\\DIBS\\epm_data_csv_train\\EPM-MCE-10DLC_resnet50_Maternal_EPMDec28shuffle1_180000.csv\n",
      "2021-01-20 12:02:40,610 - C:\\Users\\killian\\projects\\DIBS\\dibs\\base_pipeline.py       - DEBUG    - Added file to train data: C:\\Users\\killian\\projects\\DIBS\\epm_data_csv_train\\EPM-MCE-11DLC_resnet50_Maternal_EPMDec28shuffle1_180000.csv\n",
      "2021-01-20 12:02:40,730 - C:\\Users\\killian\\projects\\DIBS\\dibs\\base_pipeline.py       - DEBUG    - Added file to train data: C:\\Users\\killian\\projects\\DIBS\\epm_data_csv_train\\EPM-MCE-12DLC_resnet50_Maternal_EPMDec28shuffle1_180000.csv\n",
      "2021-01-20 12:02:40,850 - C:\\Users\\killian\\projects\\DIBS\\dibs\\base_pipeline.py       - DEBUG    - Added file to train data: C:\\Users\\killian\\projects\\DIBS\\epm_data_csv_train\\EPM-MCE-13DLC_resnet50_Maternal_EPMDec28shuffle1_180000.csv\n",
      "2021-01-20 12:02:40,977 - C:\\Users\\killian\\projects\\DIBS\\dibs\\base_pipeline.py       - DEBUG    - Added file to train data: C:\\Users\\killian\\projects\\DIBS\\epm_data_csv_train\\EPM-MCE-14DLC_resnet50_Maternal_EPMDec28shuffle1_180000.csv\n",
      "2021-01-20 12:02:41,103 - C:\\Users\\killian\\projects\\DIBS\\dibs\\base_pipeline.py       - DEBUG    - Added file to train data: C:\\Users\\killian\\projects\\DIBS\\epm_data_csv_train\\EPM-MCE-15DLC_resnet50_Maternal_EPMDec28shuffle1_180000.csv\n",
      "2021-01-20 12:02:41,218 - C:\\Users\\killian\\projects\\DIBS\\dibs\\base_pipeline.py       - DEBUG    - Added file to train data: C:\\Users\\killian\\projects\\DIBS\\epm_data_csv_train\\EPM-MCE-10DLC_resnet50_Maternal_EPMDec28shuffle1_180000.csv\n",
      "2021-01-20 12:02:41,337 - C:\\Users\\killian\\projects\\DIBS\\dibs\\base_pipeline.py       - DEBUG    - Added file to train data: C:\\Users\\killian\\projects\\DIBS\\epm_data_csv_train\\EPM-MCE-11DLC_resnet50_Maternal_EPMDec28shuffle1_180000.csv\n",
      "2021-01-20 12:02:41,456 - C:\\Users\\killian\\projects\\DIBS\\dibs\\base_pipeline.py       - DEBUG    - Added file to train data: C:\\Users\\killian\\projects\\DIBS\\epm_data_csv_train\\EPM-MCE-12DLC_resnet50_Maternal_EPMDec28shuffle1_180000.csv\n",
      "2021-01-20 12:02:41,577 - C:\\Users\\killian\\projects\\DIBS\\dibs\\base_pipeline.py       - DEBUG    - Added file to train data: C:\\Users\\killian\\projects\\DIBS\\epm_data_csv_train\\EPM-MCE-13DLC_resnet50_Maternal_EPMDec28shuffle1_180000.csv\n",
      "2021-01-20 12:02:41,705 - C:\\Users\\killian\\projects\\DIBS\\dibs\\base_pipeline.py       - DEBUG    - Added file to train data: C:\\Users\\killian\\projects\\DIBS\\epm_data_csv_train\\EPM-MCE-14DLC_resnet50_Maternal_EPMDec28shuffle1_180000.csv\n",
      "2021-01-20 12:02:41,832 - C:\\Users\\killian\\projects\\DIBS\\dibs\\base_pipeline.py       - DEBUG    - Added file to train data: C:\\Users\\killian\\projects\\DIBS\\epm_data_csv_train\\EPM-MCE-15DLC_resnet50_Maternal_EPMDec28shuffle1_180000.csv\n",
      "2021-01-20 12:02:41,946 - C:\\Users\\killian\\projects\\DIBS\\dibs\\base_pipeline.py       - DEBUG    - Added file to train data: C:\\Users\\killian\\projects\\DIBS\\epm_data_csv_train\\EPM-MCE-10DLC_resnet50_Maternal_EPMDec28shuffle1_180000.csv\n",
      "2021-01-20 12:02:42,066 - C:\\Users\\killian\\projects\\DIBS\\dibs\\base_pipeline.py       - DEBUG    - Added file to train data: C:\\Users\\killian\\projects\\DIBS\\epm_data_csv_train\\EPM-MCE-11DLC_resnet50_Maternal_EPMDec28shuffle1_180000.csv\n",
      "2021-01-20 12:02:42,185 - C:\\Users\\killian\\projects\\DIBS\\dibs\\base_pipeline.py       - DEBUG    - Added file to train data: C:\\Users\\killian\\projects\\DIBS\\epm_data_csv_train\\EPM-MCE-12DLC_resnet50_Maternal_EPMDec28shuffle1_180000.csv\n",
      "2021-01-20 12:02:42,306 - C:\\Users\\killian\\projects\\DIBS\\dibs\\base_pipeline.py       - DEBUG    - Added file to train data: C:\\Users\\killian\\projects\\DIBS\\epm_data_csv_train\\EPM-MCE-13DLC_resnet50_Maternal_EPMDec28shuffle1_180000.csv\n",
      "2021-01-20 12:02:42,441 - C:\\Users\\killian\\projects\\DIBS\\dibs\\base_pipeline.py       - DEBUG    - Added file to train data: C:\\Users\\killian\\projects\\DIBS\\epm_data_csv_train\\EPM-MCE-14DLC_resnet50_Maternal_EPMDec28shuffle1_180000.csv\n",
      "2021-01-20 12:02:42,571 - C:\\Users\\killian\\projects\\DIBS\\dibs\\base_pipeline.py       - DEBUG    - Added file to train data: C:\\Users\\killian\\projects\\DIBS\\epm_data_csv_train\\EPM-MCE-15DLC_resnet50_Maternal_EPMDec28shuffle1_180000.csv\n",
      "2021-01-20 12:02:42,681 - C:\\Users\\killian\\projects\\DIBS\\dibs\\base_pipeline.py       - DEBUG    - Added file to train data: C:\\Users\\killian\\projects\\DIBS\\epm_data_csv_train\\EPM-MCE-10DLC_resnet50_Maternal_EPMDec28shuffle1_180000.csv\n",
      "2021-01-20 12:02:42,799 - C:\\Users\\killian\\projects\\DIBS\\dibs\\base_pipeline.py       - DEBUG    - Added file to train data: C:\\Users\\killian\\projects\\DIBS\\epm_data_csv_train\\EPM-MCE-11DLC_resnet50_Maternal_EPMDec28shuffle1_180000.csv\n",
      "2021-01-20 12:02:42,918 - C:\\Users\\killian\\projects\\DIBS\\dibs\\base_pipeline.py       - DEBUG    - Added file to train data: C:\\Users\\killian\\projects\\DIBS\\epm_data_csv_train\\EPM-MCE-12DLC_resnet50_Maternal_EPMDec28shuffle1_180000.csv\n",
      "2021-01-20 12:02:43,039 - C:\\Users\\killian\\projects\\DIBS\\dibs\\base_pipeline.py       - DEBUG    - Added file to train data: C:\\Users\\killian\\projects\\DIBS\\epm_data_csv_train\\EPM-MCE-13DLC_resnet50_Maternal_EPMDec28shuffle1_180000.csv\n",
      "2021-01-20 12:02:43,168 - C:\\Users\\killian\\projects\\DIBS\\dibs\\base_pipeline.py       - DEBUG    - Added file to train data: C:\\Users\\killian\\projects\\DIBS\\epm_data_csv_train\\EPM-MCE-14DLC_resnet50_Maternal_EPMDec28shuffle1_180000.csv\n",
      "2021-01-20 12:02:43,295 - C:\\Users\\killian\\projects\\DIBS\\dibs\\base_pipeline.py       - DEBUG    - Added file to train data: C:\\Users\\killian\\projects\\DIBS\\epm_data_csv_train\\EPM-MCE-15DLC_resnet50_Maternal_EPMDec28shuffle1_180000.csv\n"
     ]
    },
    {
     "name": "stderr",
     "output_type": "stream",
     "text": [
      "2021-01-20 12:02:43,410 - C:\\Users\\killian\\projects\\DIBS\\dibs\\base_pipeline.py       - DEBUG    - Added file to train data: C:\\Users\\killian\\projects\\DIBS\\epm_data_csv_train\\EPM-MCE-10DLC_resnet50_Maternal_EPMDec28shuffle1_180000.csv\n",
      "2021-01-20 12:02:43,532 - C:\\Users\\killian\\projects\\DIBS\\dibs\\base_pipeline.py       - DEBUG    - Added file to train data: C:\\Users\\killian\\projects\\DIBS\\epm_data_csv_train\\EPM-MCE-11DLC_resnet50_Maternal_EPMDec28shuffle1_180000.csv\n",
      "2021-01-20 12:02:43,653 - C:\\Users\\killian\\projects\\DIBS\\dibs\\base_pipeline.py       - DEBUG    - Added file to train data: C:\\Users\\killian\\projects\\DIBS\\epm_data_csv_train\\EPM-MCE-12DLC_resnet50_Maternal_EPMDec28shuffle1_180000.csv\n",
      "2021-01-20 12:02:43,776 - C:\\Users\\killian\\projects\\DIBS\\dibs\\base_pipeline.py       - DEBUG    - Added file to train data: C:\\Users\\killian\\projects\\DIBS\\epm_data_csv_train\\EPM-MCE-13DLC_resnet50_Maternal_EPMDec28shuffle1_180000.csv\n",
      "2021-01-20 12:02:43,906 - C:\\Users\\killian\\projects\\DIBS\\dibs\\base_pipeline.py       - DEBUG    - Added file to train data: C:\\Users\\killian\\projects\\DIBS\\epm_data_csv_train\\EPM-MCE-14DLC_resnet50_Maternal_EPMDec28shuffle1_180000.csv\n",
      "2021-01-20 12:02:44,035 - C:\\Users\\killian\\projects\\DIBS\\dibs\\base_pipeline.py       - DEBUG    - Added file to train data: C:\\Users\\killian\\projects\\DIBS\\epm_data_csv_train\\EPM-MCE-15DLC_resnet50_Maternal_EPMDec28shuffle1_180000.csv\n",
      "2021-01-20 12:02:44,149 - C:\\Users\\killian\\projects\\DIBS\\dibs\\base_pipeline.py       - DEBUG    - Added file to train data: C:\\Users\\killian\\projects\\DIBS\\epm_data_csv_train\\EPM-MCE-10DLC_resnet50_Maternal_EPMDec28shuffle1_180000.csv\n",
      "2021-01-20 12:02:44,267 - C:\\Users\\killian\\projects\\DIBS\\dibs\\base_pipeline.py       - DEBUG    - Added file to train data: C:\\Users\\killian\\projects\\DIBS\\epm_data_csv_train\\EPM-MCE-11DLC_resnet50_Maternal_EPMDec28shuffle1_180000.csv\n",
      "2021-01-20 12:02:44,391 - C:\\Users\\killian\\projects\\DIBS\\dibs\\base_pipeline.py       - DEBUG    - Added file to train data: C:\\Users\\killian\\projects\\DIBS\\epm_data_csv_train\\EPM-MCE-12DLC_resnet50_Maternal_EPMDec28shuffle1_180000.csv\n",
      "2021-01-20 12:02:44,514 - C:\\Users\\killian\\projects\\DIBS\\dibs\\base_pipeline.py       - DEBUG    - Added file to train data: C:\\Users\\killian\\projects\\DIBS\\epm_data_csv_train\\EPM-MCE-13DLC_resnet50_Maternal_EPMDec28shuffle1_180000.csv\n",
      "2021-01-20 12:02:44,645 - C:\\Users\\killian\\projects\\DIBS\\dibs\\base_pipeline.py       - DEBUG    - Added file to train data: C:\\Users\\killian\\projects\\DIBS\\epm_data_csv_train\\EPM-MCE-14DLC_resnet50_Maternal_EPMDec28shuffle1_180000.csv\n",
      "2021-01-20 12:02:44,774 - C:\\Users\\killian\\projects\\DIBS\\dibs\\base_pipeline.py       - DEBUG    - Added file to train data: C:\\Users\\killian\\projects\\DIBS\\epm_data_csv_train\\EPM-MCE-15DLC_resnet50_Maternal_EPMDec28shuffle1_180000.csv\n",
      "2021-01-20 12:02:44,887 - C:\\Users\\killian\\projects\\DIBS\\dibs\\base_pipeline.py       - DEBUG    - Added file to train data: C:\\Users\\killian\\projects\\DIBS\\epm_data_csv_train\\EPM-MCE-10DLC_resnet50_Maternal_EPMDec28shuffle1_180000.csv\n",
      "2021-01-20 12:02:45,007 - C:\\Users\\killian\\projects\\DIBS\\dibs\\base_pipeline.py       - DEBUG    - Added file to train data: C:\\Users\\killian\\projects\\DIBS\\epm_data_csv_train\\EPM-MCE-11DLC_resnet50_Maternal_EPMDec28shuffle1_180000.csv\n",
      "2021-01-20 12:02:45,127 - C:\\Users\\killian\\projects\\DIBS\\dibs\\base_pipeline.py       - DEBUG    - Added file to train data: C:\\Users\\killian\\projects\\DIBS\\epm_data_csv_train\\EPM-MCE-12DLC_resnet50_Maternal_EPMDec28shuffle1_180000.csv\n",
      "2021-01-20 12:02:45,246 - C:\\Users\\killian\\projects\\DIBS\\dibs\\base_pipeline.py       - DEBUG    - Added file to train data: C:\\Users\\killian\\projects\\DIBS\\epm_data_csv_train\\EPM-MCE-13DLC_resnet50_Maternal_EPMDec28shuffle1_180000.csv\n",
      "2021-01-20 12:02:45,375 - C:\\Users\\killian\\projects\\DIBS\\dibs\\base_pipeline.py       - DEBUG    - Added file to train data: C:\\Users\\killian\\projects\\DIBS\\epm_data_csv_train\\EPM-MCE-14DLC_resnet50_Maternal_EPMDec28shuffle1_180000.csv\n",
      "2021-01-20 12:02:45,504 - C:\\Users\\killian\\projects\\DIBS\\dibs\\base_pipeline.py       - DEBUG    - Added file to train data: C:\\Users\\killian\\projects\\DIBS\\epm_data_csv_train\\EPM-MCE-15DLC_resnet50_Maternal_EPMDec28shuffle1_180000.csv\n",
      "2021-01-20 12:02:45,618 - C:\\Users\\killian\\projects\\DIBS\\dibs\\base_pipeline.py       - DEBUG    - Added file to train data: C:\\Users\\killian\\projects\\DIBS\\epm_data_csv_train\\EPM-MCE-10DLC_resnet50_Maternal_EPMDec28shuffle1_180000.csv\n",
      "2021-01-20 12:02:45,739 - C:\\Users\\killian\\projects\\DIBS\\dibs\\base_pipeline.py       - DEBUG    - Added file to train data: C:\\Users\\killian\\projects\\DIBS\\epm_data_csv_train\\EPM-MCE-11DLC_resnet50_Maternal_EPMDec28shuffle1_180000.csv\n",
      "2021-01-20 12:02:45,865 - C:\\Users\\killian\\projects\\DIBS\\dibs\\base_pipeline.py       - DEBUG    - Added file to train data: C:\\Users\\killian\\projects\\DIBS\\epm_data_csv_train\\EPM-MCE-12DLC_resnet50_Maternal_EPMDec28shuffle1_180000.csv\n",
      "2021-01-20 12:02:45,984 - C:\\Users\\killian\\projects\\DIBS\\dibs\\base_pipeline.py       - DEBUG    - Added file to train data: C:\\Users\\killian\\projects\\DIBS\\epm_data_csv_train\\EPM-MCE-13DLC_resnet50_Maternal_EPMDec28shuffle1_180000.csv\n",
      "2021-01-20 12:02:46,111 - C:\\Users\\killian\\projects\\DIBS\\dibs\\base_pipeline.py       - DEBUG    - Added file to train data: C:\\Users\\killian\\projects\\DIBS\\epm_data_csv_train\\EPM-MCE-14DLC_resnet50_Maternal_EPMDec28shuffle1_180000.csv\n",
      "2021-01-20 12:02:46,241 - C:\\Users\\killian\\projects\\DIBS\\dibs\\base_pipeline.py       - DEBUG    - Added file to train data: C:\\Users\\killian\\projects\\DIBS\\epm_data_csv_train\\EPM-MCE-15DLC_resnet50_Maternal_EPMDec28shuffle1_180000.csv\n",
      "2021-01-20 12:02:46,355 - C:\\Users\\killian\\projects\\DIBS\\dibs\\base_pipeline.py       - DEBUG    - Added file to train data: C:\\Users\\killian\\projects\\DIBS\\epm_data_csv_train\\EPM-MCE-10DLC_resnet50_Maternal_EPMDec28shuffle1_180000.csv\n",
      "2021-01-20 12:02:46,476 - C:\\Users\\killian\\projects\\DIBS\\dibs\\base_pipeline.py       - DEBUG    - Added file to train data: C:\\Users\\killian\\projects\\DIBS\\epm_data_csv_train\\EPM-MCE-11DLC_resnet50_Maternal_EPMDec28shuffle1_180000.csv\n",
      "2021-01-20 12:02:46,597 - C:\\Users\\killian\\projects\\DIBS\\dibs\\base_pipeline.py       - DEBUG    - Added file to train data: C:\\Users\\killian\\projects\\DIBS\\epm_data_csv_train\\EPM-MCE-12DLC_resnet50_Maternal_EPMDec28shuffle1_180000.csv\n",
      "2021-01-20 12:02:46,718 - C:\\Users\\killian\\projects\\DIBS\\dibs\\base_pipeline.py       - DEBUG    - Added file to train data: C:\\Users\\killian\\projects\\DIBS\\epm_data_csv_train\\EPM-MCE-13DLC_resnet50_Maternal_EPMDec28shuffle1_180000.csv\n",
      "2021-01-20 12:02:46,849 - C:\\Users\\killian\\projects\\DIBS\\dibs\\base_pipeline.py       - DEBUG    - Added file to train data: C:\\Users\\killian\\projects\\DIBS\\epm_data_csv_train\\EPM-MCE-14DLC_resnet50_Maternal_EPMDec28shuffle1_180000.csv\n",
      "2021-01-20 12:02:46,982 - C:\\Users\\killian\\projects\\DIBS\\dibs\\base_pipeline.py       - DEBUG    - Added file to train data: C:\\Users\\killian\\projects\\DIBS\\epm_data_csv_train\\EPM-MCE-15DLC_resnet50_Maternal_EPMDec28shuffle1_180000.csv\n",
      "2021-01-20 12:02:47,098 - C:\\Users\\killian\\projects\\DIBS\\dibs\\base_pipeline.py       - DEBUG    - Added file to train data: C:\\Users\\killian\\projects\\DIBS\\epm_data_csv_train\\EPM-MCE-10DLC_resnet50_Maternal_EPMDec28shuffle1_180000.csv\n",
      "2021-01-20 12:02:47,217 - C:\\Users\\killian\\projects\\DIBS\\dibs\\base_pipeline.py       - DEBUG    - Added file to train data: C:\\Users\\killian\\projects\\DIBS\\epm_data_csv_train\\EPM-MCE-11DLC_resnet50_Maternal_EPMDec28shuffle1_180000.csv\n",
      "2021-01-20 12:02:47,339 - C:\\Users\\killian\\projects\\DIBS\\dibs\\base_pipeline.py       - DEBUG    - Added file to train data: C:\\Users\\killian\\projects\\DIBS\\epm_data_csv_train\\EPM-MCE-12DLC_resnet50_Maternal_EPMDec28shuffle1_180000.csv\n",
      "2021-01-20 12:02:47,459 - C:\\Users\\killian\\projects\\DIBS\\dibs\\base_pipeline.py       - DEBUG    - Added file to train data: C:\\Users\\killian\\projects\\DIBS\\epm_data_csv_train\\EPM-MCE-13DLC_resnet50_Maternal_EPMDec28shuffle1_180000.csv\n",
      "2021-01-20 12:02:47,586 - C:\\Users\\killian\\projects\\DIBS\\dibs\\base_pipeline.py       - DEBUG    - Added file to train data: C:\\Users\\killian\\projects\\DIBS\\epm_data_csv_train\\EPM-MCE-14DLC_resnet50_Maternal_EPMDec28shuffle1_180000.csv\n",
      "2021-01-20 12:02:47,714 - C:\\Users\\killian\\projects\\DIBS\\dibs\\base_pipeline.py       - DEBUG    - Added file to train data: C:\\Users\\killian\\projects\\DIBS\\epm_data_csv_train\\EPM-MCE-15DLC_resnet50_Maternal_EPMDec28shuffle1_180000.csv\n"
     ]
    },
    {
     "name": "stderr",
     "output_type": "stream",
     "text": [
      "2021-01-20 12:02:47,828 - C:\\Users\\killian\\projects\\DIBS\\dibs\\base_pipeline.py       - DEBUG    - Added file to train data: C:\\Users\\killian\\projects\\DIBS\\epm_data_csv_train\\EPM-MCE-10DLC_resnet50_Maternal_EPMDec28shuffle1_180000.csv\n",
      "2021-01-20 12:02:47,949 - C:\\Users\\killian\\projects\\DIBS\\dibs\\base_pipeline.py       - DEBUG    - Added file to train data: C:\\Users\\killian\\projects\\DIBS\\epm_data_csv_train\\EPM-MCE-11DLC_resnet50_Maternal_EPMDec28shuffle1_180000.csv\n",
      "2021-01-20 12:02:48,071 - C:\\Users\\killian\\projects\\DIBS\\dibs\\base_pipeline.py       - DEBUG    - Added file to train data: C:\\Users\\killian\\projects\\DIBS\\epm_data_csv_train\\EPM-MCE-12DLC_resnet50_Maternal_EPMDec28shuffle1_180000.csv\n",
      "2021-01-20 12:02:48,190 - C:\\Users\\killian\\projects\\DIBS\\dibs\\base_pipeline.py       - DEBUG    - Added file to train data: C:\\Users\\killian\\projects\\DIBS\\epm_data_csv_train\\EPM-MCE-13DLC_resnet50_Maternal_EPMDec28shuffle1_180000.csv\n",
      "2021-01-20 12:02:48,320 - C:\\Users\\killian\\projects\\DIBS\\dibs\\base_pipeline.py       - DEBUG    - Added file to train data: C:\\Users\\killian\\projects\\DIBS\\epm_data_csv_train\\EPM-MCE-14DLC_resnet50_Maternal_EPMDec28shuffle1_180000.csv\n",
      "2021-01-20 12:02:48,450 - C:\\Users\\killian\\projects\\DIBS\\dibs\\base_pipeline.py       - DEBUG    - Added file to train data: C:\\Users\\killian\\projects\\DIBS\\epm_data_csv_train\\EPM-MCE-15DLC_resnet50_Maternal_EPMDec28shuffle1_180000.csv\n",
      "2021-01-20 12:02:48,564 - C:\\Users\\killian\\projects\\DIBS\\dibs\\base_pipeline.py       - DEBUG    - Added file to train data: C:\\Users\\killian\\projects\\DIBS\\epm_data_csv_train\\EPM-MCE-10DLC_resnet50_Maternal_EPMDec28shuffle1_180000.csv\n",
      "2021-01-20 12:02:48,684 - C:\\Users\\killian\\projects\\DIBS\\dibs\\base_pipeline.py       - DEBUG    - Added file to train data: C:\\Users\\killian\\projects\\DIBS\\epm_data_csv_train\\EPM-MCE-11DLC_resnet50_Maternal_EPMDec28shuffle1_180000.csv\n",
      "2021-01-20 12:02:48,807 - C:\\Users\\killian\\projects\\DIBS\\dibs\\base_pipeline.py       - DEBUG    - Added file to train data: C:\\Users\\killian\\projects\\DIBS\\epm_data_csv_train\\EPM-MCE-12DLC_resnet50_Maternal_EPMDec28shuffle1_180000.csv\n",
      "2021-01-20 12:02:48,928 - C:\\Users\\killian\\projects\\DIBS\\dibs\\base_pipeline.py       - DEBUG    - Added file to train data: C:\\Users\\killian\\projects\\DIBS\\epm_data_csv_train\\EPM-MCE-13DLC_resnet50_Maternal_EPMDec28shuffle1_180000.csv\n",
      "2021-01-20 12:02:49,055 - C:\\Users\\killian\\projects\\DIBS\\dibs\\base_pipeline.py       - DEBUG    - Added file to train data: C:\\Users\\killian\\projects\\DIBS\\epm_data_csv_train\\EPM-MCE-14DLC_resnet50_Maternal_EPMDec28shuffle1_180000.csv\n",
      "2021-01-20 12:02:49,182 - C:\\Users\\killian\\projects\\DIBS\\dibs\\base_pipeline.py       - DEBUG    - Added file to train data: C:\\Users\\killian\\projects\\DIBS\\epm_data_csv_train\\EPM-MCE-15DLC_resnet50_Maternal_EPMDec28shuffle1_180000.csv\n",
      "2021-01-20 12:02:49,294 - C:\\Users\\killian\\projects\\DIBS\\dibs\\base_pipeline.py       - DEBUG    - Added file to train data: C:\\Users\\killian\\projects\\DIBS\\epm_data_csv_train\\EPM-MCE-10DLC_resnet50_Maternal_EPMDec28shuffle1_180000.csv\n",
      "2021-01-20 12:02:49,412 - C:\\Users\\killian\\projects\\DIBS\\dibs\\base_pipeline.py       - DEBUG    - Added file to train data: C:\\Users\\killian\\projects\\DIBS\\epm_data_csv_train\\EPM-MCE-11DLC_resnet50_Maternal_EPMDec28shuffle1_180000.csv\n",
      "2021-01-20 12:02:49,533 - C:\\Users\\killian\\projects\\DIBS\\dibs\\base_pipeline.py       - DEBUG    - Added file to train data: C:\\Users\\killian\\projects\\DIBS\\epm_data_csv_train\\EPM-MCE-12DLC_resnet50_Maternal_EPMDec28shuffle1_180000.csv\n",
      "2021-01-20 12:02:49,655 - C:\\Users\\killian\\projects\\DIBS\\dibs\\base_pipeline.py       - DEBUG    - Added file to train data: C:\\Users\\killian\\projects\\DIBS\\epm_data_csv_train\\EPM-MCE-13DLC_resnet50_Maternal_EPMDec28shuffle1_180000.csv\n",
      "2021-01-20 12:02:49,786 - C:\\Users\\killian\\projects\\DIBS\\dibs\\base_pipeline.py       - DEBUG    - Added file to train data: C:\\Users\\killian\\projects\\DIBS\\epm_data_csv_train\\EPM-MCE-14DLC_resnet50_Maternal_EPMDec28shuffle1_180000.csv\n",
      "2021-01-20 12:02:49,914 - C:\\Users\\killian\\projects\\DIBS\\dibs\\base_pipeline.py       - DEBUG    - Added file to train data: C:\\Users\\killian\\projects\\DIBS\\epm_data_csv_train\\EPM-MCE-15DLC_resnet50_Maternal_EPMDec28shuffle1_180000.csv\n",
      "2021-01-20 12:02:50,026 - C:\\Users\\killian\\projects\\DIBS\\dibs\\base_pipeline.py       - DEBUG    - Added file to train data: C:\\Users\\killian\\projects\\DIBS\\epm_data_csv_train\\EPM-MCE-10DLC_resnet50_Maternal_EPMDec28shuffle1_180000.csv\n",
      "2021-01-20 12:02:50,145 - C:\\Users\\killian\\projects\\DIBS\\dibs\\base_pipeline.py       - DEBUG    - Added file to train data: C:\\Users\\killian\\projects\\DIBS\\epm_data_csv_train\\EPM-MCE-11DLC_resnet50_Maternal_EPMDec28shuffle1_180000.csv\n",
      "2021-01-20 12:02:50,264 - C:\\Users\\killian\\projects\\DIBS\\dibs\\base_pipeline.py       - DEBUG    - Added file to train data: C:\\Users\\killian\\projects\\DIBS\\epm_data_csv_train\\EPM-MCE-12DLC_resnet50_Maternal_EPMDec28shuffle1_180000.csv\n",
      "2021-01-20 12:02:50,386 - C:\\Users\\killian\\projects\\DIBS\\dibs\\base_pipeline.py       - DEBUG    - Added file to train data: C:\\Users\\killian\\projects\\DIBS\\epm_data_csv_train\\EPM-MCE-13DLC_resnet50_Maternal_EPMDec28shuffle1_180000.csv\n",
      "2021-01-20 12:02:50,513 - C:\\Users\\killian\\projects\\DIBS\\dibs\\base_pipeline.py       - DEBUG    - Added file to train data: C:\\Users\\killian\\projects\\DIBS\\epm_data_csv_train\\EPM-MCE-14DLC_resnet50_Maternal_EPMDec28shuffle1_180000.csv\n",
      "2021-01-20 12:02:50,641 - C:\\Users\\killian\\projects\\DIBS\\dibs\\base_pipeline.py       - DEBUG    - Added file to train data: C:\\Users\\killian\\projects\\DIBS\\epm_data_csv_train\\EPM-MCE-15DLC_resnet50_Maternal_EPMDec28shuffle1_180000.csv\n",
      "2021-01-20 12:02:50,753 - C:\\Users\\killian\\projects\\DIBS\\dibs\\base_pipeline.py       - DEBUG    - Added file to train data: C:\\Users\\killian\\projects\\DIBS\\epm_data_csv_train\\EPM-MCE-10DLC_resnet50_Maternal_EPMDec28shuffle1_180000.csv\n",
      "2021-01-20 12:02:50,872 - C:\\Users\\killian\\projects\\DIBS\\dibs\\base_pipeline.py       - DEBUG    - Added file to train data: C:\\Users\\killian\\projects\\DIBS\\epm_data_csv_train\\EPM-MCE-11DLC_resnet50_Maternal_EPMDec28shuffle1_180000.csv\n",
      "2021-01-20 12:02:50,995 - C:\\Users\\killian\\projects\\DIBS\\dibs\\base_pipeline.py       - DEBUG    - Added file to train data: C:\\Users\\killian\\projects\\DIBS\\epm_data_csv_train\\EPM-MCE-12DLC_resnet50_Maternal_EPMDec28shuffle1_180000.csv\n",
      "2021-01-20 12:02:51,115 - C:\\Users\\killian\\projects\\DIBS\\dibs\\base_pipeline.py       - DEBUG    - Added file to train data: C:\\Users\\killian\\projects\\DIBS\\epm_data_csv_train\\EPM-MCE-13DLC_resnet50_Maternal_EPMDec28shuffle1_180000.csv\n",
      "2021-01-20 12:02:51,242 - C:\\Users\\killian\\projects\\DIBS\\dibs\\base_pipeline.py       - DEBUG    - Added file to train data: C:\\Users\\killian\\projects\\DIBS\\epm_data_csv_train\\EPM-MCE-14DLC_resnet50_Maternal_EPMDec28shuffle1_180000.csv\n",
      "2021-01-20 12:02:51,372 - C:\\Users\\killian\\projects\\DIBS\\dibs\\base_pipeline.py       - DEBUG    - Added file to train data: C:\\Users\\killian\\projects\\DIBS\\epm_data_csv_train\\EPM-MCE-15DLC_resnet50_Maternal_EPMDec28shuffle1_180000.csv\n",
      "2021-01-20 12:02:51,483 - C:\\Users\\killian\\projects\\DIBS\\dibs\\base_pipeline.py       - DEBUG    - Added file to train data: C:\\Users\\killian\\projects\\DIBS\\epm_data_csv_train\\EPM-MCE-10DLC_resnet50_Maternal_EPMDec28shuffle1_180000.csv\n",
      "2021-01-20 12:02:51,602 - C:\\Users\\killian\\projects\\DIBS\\dibs\\base_pipeline.py       - DEBUG    - Added file to train data: C:\\Users\\killian\\projects\\DIBS\\epm_data_csv_train\\EPM-MCE-11DLC_resnet50_Maternal_EPMDec28shuffle1_180000.csv\n",
      "2021-01-20 12:02:51,722 - C:\\Users\\killian\\projects\\DIBS\\dibs\\base_pipeline.py       - DEBUG    - Added file to train data: C:\\Users\\killian\\projects\\DIBS\\epm_data_csv_train\\EPM-MCE-12DLC_resnet50_Maternal_EPMDec28shuffle1_180000.csv\n",
      "2021-01-20 12:02:51,841 - C:\\Users\\killian\\projects\\DIBS\\dibs\\base_pipeline.py       - DEBUG    - Added file to train data: C:\\Users\\killian\\projects\\DIBS\\epm_data_csv_train\\EPM-MCE-13DLC_resnet50_Maternal_EPMDec28shuffle1_180000.csv\n",
      "2021-01-20 12:02:51,968 - C:\\Users\\killian\\projects\\DIBS\\dibs\\base_pipeline.py       - DEBUG    - Added file to train data: C:\\Users\\killian\\projects\\DIBS\\epm_data_csv_train\\EPM-MCE-14DLC_resnet50_Maternal_EPMDec28shuffle1_180000.csv\n",
      "2021-01-20 12:02:52,095 - C:\\Users\\killian\\projects\\DIBS\\dibs\\base_pipeline.py       - DEBUG    - Added file to train data: C:\\Users\\killian\\projects\\DIBS\\epm_data_csv_train\\EPM-MCE-15DLC_resnet50_Maternal_EPMDec28shuffle1_180000.csv\n"
     ]
    },
    {
     "name": "stdout",
     "output_type": "stream",
     "text": [
      "Number of possible results 18\n"
     ]
    }
   ],
   "source": [
    "pipe_results = [dibs.pipeline.PipelineMimic(name, **kwargs).add_train_data_source(*train_data) for name, kwargs in zip(names, kwargs_product)]\n",
    "# print(\"Number of possible results\", len(pipe_results))"
   ]
  },
  {
   "cell_type": "code",
   "execution_count": null,
   "metadata": {},
   "outputs": [],
   "source": []
  },
  {
   "cell_type": "code",
   "execution_count": 8,
   "metadata": {},
   "outputs": [
    {
     "data": {
      "text/plain": [
       "18"
      ]
     },
     "execution_count": 8,
     "metadata": {},
     "output_type": "execute_result"
    }
   ],
   "source": [
    "len(pipe_results)"
   ]
  },
  {
   "cell_type": "code",
   "execution_count": null,
   "metadata": {},
   "outputs": [],
   "source": [
    "start = time.perf_counter()\n",
    "with multiprocessing.Pool(num_procs) as pool:\n",
    "    pipe_results = [pool.apply_async(pipe.build) for pipe in pipe_results]\n",
    "    pipe_results = [res.get() for res in pipe_results]\n",
    "end = time.perf_counter()\n",
    "print('Total compute time:', end-start, 'seconds.')"
   ]
  },
  {
   "cell_type": "code",
   "execution_count": null,
   "metadata": {},
   "outputs": [],
   "source": []
  },
  {
   "cell_type": "code",
   "execution_count": null,
   "metadata": {
    "scrolled": false
   },
   "outputs": [],
   "source": [
    "for i, pipe in enumerate(pipe_results):\n",
    "    p,lr,ee = pipe.tsne_perplexity, pipe.tsne_learning_rate, pipe.tsne_early_exaggeration\n",
    "    print('perp', p , 'ee', ee, 'lr', lr)\n",
    "    pipe.plot_clusters_by_assignments(show_now=True, save_to_file=True, figsize=(20,15),s=1.5)\n",
    "    print('-----------------------------------')"
   ]
  },
  {
   "cell_type": "code",
   "execution_count": null,
   "metadata": {},
   "outputs": [],
   "source": []
  },
  {
   "cell_type": "code",
   "execution_count": null,
   "metadata": {},
   "outputs": [],
   "source": []
  },
  {
   "cell_type": "code",
   "execution_count": null,
   "metadata": {},
   "outputs": [],
   "source": []
  },
  {
   "cell_type": "code",
   "execution_count": null,
   "metadata": {},
   "outputs": [],
   "source": []
  },
  {
   "cell_type": "code",
   "execution_count": null,
   "metadata": {},
   "outputs": [],
   "source": []
  },
  {
   "cell_type": "code",
   "execution_count": null,
   "metadata": {},
   "outputs": [],
   "source": []
  },
  {
   "cell_type": "code",
   "execution_count": null,
   "metadata": {},
   "outputs": [],
   "source": [
    "print('All done!')"
   ]
  },
  {
   "cell_type": "code",
   "execution_count": null,
   "metadata": {},
   "outputs": [],
   "source": [
    "dibs.pipeline.logger.info('All done!')"
   ]
  }
 ],
 "metadata": {
  "kernelspec": {
   "display_name": "dibs_windows",
   "language": "python",
   "name": "dibs_windows"
  },
  "language_info": {
   "codemirror_mode": {
    "name": "ipython",
    "version": 3
   },
   "file_extension": ".py",
   "mimetype": "text/x-python",
   "name": "python",
   "nbconvert_exporter": "python",
   "pygments_lexer": "ipython3",
   "version": "3.9.1"
  }
 },
 "nbformat": 4,
 "nbformat_minor": 4
}
